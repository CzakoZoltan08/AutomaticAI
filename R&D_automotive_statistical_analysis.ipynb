{
 "cells": [
  {
   "cell_type": "code",
   "execution_count": 3,
   "metadata": {},
   "outputs": [],
   "source": [
    "import pandas as pd\n",
    "import numpy as np\n",
    "\n",
    "import warnings\n",
    "warnings.filterwarnings('ignore')"
   ]
  },
  {
   "cell_type": "code",
   "execution_count": 9,
   "metadata": {},
   "outputs": [],
   "source": [
    "database_path = \"./data/R&D_automotive_good.xls\""
   ]
  },
  {
   "cell_type": "code",
   "execution_count": 10,
   "metadata": {},
   "outputs": [],
   "source": [
    "data = pd.read_excel(database_path)"
   ]
  },
  {
   "cell_type": "code",
   "execution_count": 13,
   "metadata": {},
   "outputs": [
    {
     "data": {
      "text/html": [
       "<div>\n",
       "<style scoped>\n",
       "    .dataframe tbody tr th:only-of-type {\n",
       "        vertical-align: middle;\n",
       "    }\n",
       "\n",
       "    .dataframe tbody tr th {\n",
       "        vertical-align: top;\n",
       "    }\n",
       "\n",
       "    .dataframe thead th {\n",
       "        text-align: right;\n",
       "    }\n",
       "</style>\n",
       "<table border=\"1\" class=\"dataframe\">\n",
       "  <thead>\n",
       "    <tr style=\"text-align: right;\">\n",
       "      <th></th>\n",
       "      <th>Company</th>\n",
       "      <th>Year</th>\n",
       "      <th>Country</th>\n",
       "      <th>R&amp;D  (€million)</th>\n",
       "      <th>R&amp;D one-year growth (%)</th>\n",
       "      <th>Net sales (€million)</th>\n",
       "      <th>Net sales one-year growth (%)</th>\n",
       "      <th>R&amp;D intensity (%)</th>\n",
       "      <th>Capex (€million)</th>\n",
       "      <th>Capex one-year growth (%)</th>\n",
       "      <th>Capex intensity (%)</th>\n",
       "      <th>Op.profits (€million)</th>\n",
       "      <th>Profitability (%)</th>\n",
       "      <th>Employees</th>\n",
       "    </tr>\n",
       "  </thead>\n",
       "  <tbody>\n",
       "    <tr>\n",
       "      <th>0</th>\n",
       "      <td>VOLKSWAGEN</td>\n",
       "      <td>NaN</td>\n",
       "      <td>Germany</td>\n",
       "      <td>NaN</td>\n",
       "      <td>NaN</td>\n",
       "      <td>NaN</td>\n",
       "      <td>NaN</td>\n",
       "      <td>NaN</td>\n",
       "      <td>NaN</td>\n",
       "      <td>NaN</td>\n",
       "      <td>NaN</td>\n",
       "      <td>NaN</td>\n",
       "      <td>NaN</td>\n",
       "      <td>NaN</td>\n",
       "    </tr>\n",
       "    <tr>\n",
       "      <th>1</th>\n",
       "      <td>VOLKSWAGEN</td>\n",
       "      <td>2011.0</td>\n",
       "      <td>Germany</td>\n",
       "      <td>7203.000</td>\n",
       "      <td>15.100671</td>\n",
       "      <td>159337.000</td>\n",
       "      <td>25.585813</td>\n",
       "      <td>4.520607</td>\n",
       "      <td>8087.000</td>\n",
       "      <td>-36.660000</td>\n",
       "      <td>5.075406</td>\n",
       "      <td>10930.000</td>\n",
       "      <td>6.859675</td>\n",
       "      <td>400070.0</td>\n",
       "    </tr>\n",
       "    <tr>\n",
       "      <th>2</th>\n",
       "      <td>VOLKSWAGEN</td>\n",
       "      <td>2012.0</td>\n",
       "      <td>Germany</td>\n",
       "      <td>9515.000</td>\n",
       "      <td>32.100000</td>\n",
       "      <td>193000.000</td>\n",
       "      <td>21.400000</td>\n",
       "      <td>4.900000</td>\n",
       "      <td>10493.000</td>\n",
       "      <td>29.800000</td>\n",
       "      <td>5.400000</td>\n",
       "      <td>8333.000</td>\n",
       "      <td>4.300000</td>\n",
       "      <td>525245.0</td>\n",
       "    </tr>\n",
       "    <tr>\n",
       "      <th>3</th>\n",
       "      <td>VOLKSWAGEN</td>\n",
       "      <td>2013.0</td>\n",
       "      <td>Germany</td>\n",
       "      <td>11743.000</td>\n",
       "      <td>23.415659</td>\n",
       "      <td>197007.000</td>\n",
       "      <td>2.247815</td>\n",
       "      <td>5.960702</td>\n",
       "      <td>11385.000</td>\n",
       "      <td>8.500000</td>\n",
       "      <td>5.778982</td>\n",
       "      <td>11500.000</td>\n",
       "      <td>5.837356</td>\n",
       "      <td>572800.0</td>\n",
       "    </tr>\n",
       "    <tr>\n",
       "      <th>4</th>\n",
       "      <td>VOLKSWAGEN</td>\n",
       "      <td>2014.0</td>\n",
       "      <td>Germany</td>\n",
       "      <td>13120.000</td>\n",
       "      <td>11.726135</td>\n",
       "      <td>202458.000</td>\n",
       "      <td>2.766907</td>\n",
       "      <td>6.480356</td>\n",
       "      <td>12012.000</td>\n",
       "      <td>5.556522</td>\n",
       "      <td>5.933082</td>\n",
       "      <td>12139.000</td>\n",
       "      <td>5.995811</td>\n",
       "      <td>592586.0</td>\n",
       "    </tr>\n",
       "    <tr>\n",
       "      <th>...</th>\n",
       "      <td>...</td>\n",
       "      <td>...</td>\n",
       "      <td>...</td>\n",
       "      <td>...</td>\n",
       "      <td>...</td>\n",
       "      <td>...</td>\n",
       "      <td>...</td>\n",
       "      <td>...</td>\n",
       "      <td>...</td>\n",
       "      <td>...</td>\n",
       "      <td>...</td>\n",
       "      <td>...</td>\n",
       "      <td>...</td>\n",
       "      <td>...</td>\n",
       "    </tr>\n",
       "    <tr>\n",
       "      <th>385</th>\n",
       "      <td>GESTAMP</td>\n",
       "      <td>2018.0</td>\n",
       "      <td>NaN</td>\n",
       "      <td>85.790</td>\n",
       "      <td>17.932504</td>\n",
       "      <td>8547.638</td>\n",
       "      <td>4.219521</td>\n",
       "      <td>1.003669</td>\n",
       "      <td>793.976</td>\n",
       "      <td>0.829903</td>\n",
       "      <td>9.288835</td>\n",
       "      <td>524.290</td>\n",
       "      <td>6.133741</td>\n",
       "      <td>43552.0</td>\n",
       "    </tr>\n",
       "    <tr>\n",
       "      <th>386</th>\n",
       "      <td>GESTAMP</td>\n",
       "      <td>2019.0</td>\n",
       "      <td>NaN</td>\n",
       "      <td>74.280</td>\n",
       "      <td>-13.416482</td>\n",
       "      <td>9065.146</td>\n",
       "      <td>6.054398</td>\n",
       "      <td>0.819402</td>\n",
       "      <td>718.473</td>\n",
       "      <td>-9.509481</td>\n",
       "      <td>7.925664</td>\n",
       "      <td>505.646</td>\n",
       "      <td>5.577913</td>\n",
       "      <td>43822.0</td>\n",
       "    </tr>\n",
       "    <tr>\n",
       "      <th>387</th>\n",
       "      <td>GESTAMP</td>\n",
       "      <td>2020.0</td>\n",
       "      <td>NaN</td>\n",
       "      <td>58.849</td>\n",
       "      <td>-20.774100</td>\n",
       "      <td>7455.840</td>\n",
       "      <td>-17.752700</td>\n",
       "      <td>0.789300</td>\n",
       "      <td>483.133</td>\n",
       "      <td>-32.755600</td>\n",
       "      <td>6.479900</td>\n",
       "      <td>58.257</td>\n",
       "      <td>0.781400</td>\n",
       "      <td>40811.0</td>\n",
       "    </tr>\n",
       "    <tr>\n",
       "      <th>388</th>\n",
       "      <td>GESTAMP</td>\n",
       "      <td>2021.0</td>\n",
       "      <td>NaN</td>\n",
       "      <td>71.309</td>\n",
       "      <td>21.172832</td>\n",
       "      <td>8092.845</td>\n",
       "      <td>8.543705</td>\n",
       "      <td>0.881136</td>\n",
       "      <td>516.020</td>\n",
       "      <td>6.807028</td>\n",
       "      <td>6.376250</td>\n",
       "      <td>414.147</td>\n",
       "      <td>5.117446</td>\n",
       "      <td>39908.0</td>\n",
       "    </tr>\n",
       "    <tr>\n",
       "      <th>389</th>\n",
       "      <td>GESTAMP</td>\n",
       "      <td>2022.0</td>\n",
       "      <td>NaN</td>\n",
       "      <td>72.990</td>\n",
       "      <td>2.400000</td>\n",
       "      <td>10726.440</td>\n",
       "      <td>32.500000</td>\n",
       "      <td>0.700000</td>\n",
       "      <td>677.840</td>\n",
       "      <td>31.400000</td>\n",
       "      <td>6.300000</td>\n",
       "      <td>535.410</td>\n",
       "      <td>5.000000</td>\n",
       "      <td>43288.0</td>\n",
       "    </tr>\n",
       "  </tbody>\n",
       "</table>\n",
       "<p>390 rows × 14 columns</p>\n",
       "</div>"
      ],
      "text/plain": [
       "        Company    Year  Country  R&D  (€million)  R&D one-year growth (%)  \\\n",
       "0    VOLKSWAGEN     NaN  Germany              NaN                      NaN   \n",
       "1    VOLKSWAGEN  2011.0  Germany         7203.000                15.100671   \n",
       "2    VOLKSWAGEN  2012.0  Germany         9515.000                32.100000   \n",
       "3    VOLKSWAGEN  2013.0  Germany        11743.000                23.415659   \n",
       "4    VOLKSWAGEN  2014.0  Germany        13120.000                11.726135   \n",
       "..          ...     ...      ...              ...                      ...   \n",
       "385    GESTAMP   2018.0      NaN           85.790                17.932504   \n",
       "386    GESTAMP   2019.0      NaN           74.280               -13.416482   \n",
       "387    GESTAMP   2020.0      NaN           58.849               -20.774100   \n",
       "388    GESTAMP   2021.0      NaN           71.309                21.172832   \n",
       "389    GESTAMP   2022.0      NaN           72.990                 2.400000   \n",
       "\n",
       "     Net sales (€million)  Net sales one-year growth (%)  R&D intensity (%)  \\\n",
       "0                     NaN                            NaN                NaN   \n",
       "1              159337.000                      25.585813           4.520607   \n",
       "2              193000.000                      21.400000           4.900000   \n",
       "3              197007.000                       2.247815           5.960702   \n",
       "4              202458.000                       2.766907           6.480356   \n",
       "..                    ...                            ...                ...   \n",
       "385              8547.638                       4.219521           1.003669   \n",
       "386              9065.146                       6.054398           0.819402   \n",
       "387              7455.840                     -17.752700           0.789300   \n",
       "388              8092.845                       8.543705           0.881136   \n",
       "389             10726.440                      32.500000           0.700000   \n",
       "\n",
       "     Capex (€million)  Capex one-year growth (%)  Capex intensity (%)  \\\n",
       "0                 NaN                        NaN                  NaN   \n",
       "1            8087.000                 -36.660000             5.075406   \n",
       "2           10493.000                  29.800000             5.400000   \n",
       "3           11385.000                   8.500000             5.778982   \n",
       "4           12012.000                   5.556522             5.933082   \n",
       "..                ...                        ...                  ...   \n",
       "385           793.976                   0.829903             9.288835   \n",
       "386           718.473                  -9.509481             7.925664   \n",
       "387           483.133                 -32.755600             6.479900   \n",
       "388           516.020                   6.807028             6.376250   \n",
       "389           677.840                  31.400000             6.300000   \n",
       "\n",
       "     Op.profits (€million)  Profitability (%)  Employees  \n",
       "0                      NaN                NaN        NaN  \n",
       "1                10930.000           6.859675   400070.0  \n",
       "2                 8333.000           4.300000   525245.0  \n",
       "3                11500.000           5.837356   572800.0  \n",
       "4                12139.000           5.995811   592586.0  \n",
       "..                     ...                ...        ...  \n",
       "385                524.290           6.133741    43552.0  \n",
       "386                505.646           5.577913    43822.0  \n",
       "387                 58.257           0.781400    40811.0  \n",
       "388                414.147           5.117446    39908.0  \n",
       "389                535.410           5.000000    43288.0  \n",
       "\n",
       "[390 rows x 14 columns]"
      ]
     },
     "execution_count": 13,
     "metadata": {},
     "output_type": "execute_result"
    }
   ],
   "source": [
    "data"
   ]
  },
  {
   "cell_type": "code",
   "execution_count": 11,
   "metadata": {},
   "outputs": [
    {
     "data": {
      "text/plain": [
       "390"
      ]
     },
     "execution_count": 11,
     "metadata": {},
     "output_type": "execute_result"
    }
   ],
   "source": [
    "data.shape[0]"
   ]
  },
  {
   "cell_type": "code",
   "execution_count": 14,
   "metadata": {},
   "outputs": [],
   "source": [
    "data = data.drop(columns=['Employees'])"
   ]
  },
  {
   "cell_type": "code",
   "execution_count": 15,
   "metadata": {},
   "outputs": [],
   "source": [
    "data = data.drop(columns=['Country'])"
   ]
  },
  {
   "cell_type": "code",
   "execution_count": 16,
   "metadata": {},
   "outputs": [],
   "source": [
    "df_cleaned = data.dropna()"
   ]
  },
  {
   "cell_type": "code",
   "execution_count": 17,
   "metadata": {},
   "outputs": [
    {
     "data": {
      "text/plain": [
       "336"
      ]
     },
     "execution_count": 17,
     "metadata": {},
     "output_type": "execute_result"
    }
   ],
   "source": [
    "df_cleaned.shape[0]"
   ]
  },
  {
   "cell_type": "code",
   "execution_count": 18,
   "metadata": {},
   "outputs": [],
   "source": [
    "df_cleaned = df_cleaned.reset_index(drop=True)"
   ]
  },
  {
   "cell_type": "code",
   "execution_count": 19,
   "metadata": {},
   "outputs": [
    {
     "data": {
      "text/html": [
       "<div>\n",
       "<style scoped>\n",
       "    .dataframe tbody tr th:only-of-type {\n",
       "        vertical-align: middle;\n",
       "    }\n",
       "\n",
       "    .dataframe tbody tr th {\n",
       "        vertical-align: top;\n",
       "    }\n",
       "\n",
       "    .dataframe thead th {\n",
       "        text-align: right;\n",
       "    }\n",
       "</style>\n",
       "<table border=\"1\" class=\"dataframe\">\n",
       "  <thead>\n",
       "    <tr style=\"text-align: right;\">\n",
       "      <th></th>\n",
       "      <th>Company</th>\n",
       "      <th>Year</th>\n",
       "      <th>R&amp;D  (€million)</th>\n",
       "      <th>R&amp;D one-year growth (%)</th>\n",
       "      <th>Net sales (€million)</th>\n",
       "      <th>Net sales one-year growth (%)</th>\n",
       "      <th>R&amp;D intensity (%)</th>\n",
       "      <th>Capex (€million)</th>\n",
       "      <th>Capex one-year growth (%)</th>\n",
       "      <th>Capex intensity (%)</th>\n",
       "      <th>Op.profits (€million)</th>\n",
       "      <th>Profitability (%)</th>\n",
       "    </tr>\n",
       "  </thead>\n",
       "  <tbody>\n",
       "    <tr>\n",
       "      <th>0</th>\n",
       "      <td>VOLKSWAGEN</td>\n",
       "      <td>2011.0</td>\n",
       "      <td>7203.000</td>\n",
       "      <td>15.100671</td>\n",
       "      <td>159337.000</td>\n",
       "      <td>25.585813</td>\n",
       "      <td>4.520607</td>\n",
       "      <td>8087.000</td>\n",
       "      <td>-36.660000</td>\n",
       "      <td>5.075406</td>\n",
       "      <td>10930.000</td>\n",
       "      <td>6.859675</td>\n",
       "    </tr>\n",
       "    <tr>\n",
       "      <th>1</th>\n",
       "      <td>VOLKSWAGEN</td>\n",
       "      <td>2012.0</td>\n",
       "      <td>9515.000</td>\n",
       "      <td>32.100000</td>\n",
       "      <td>193000.000</td>\n",
       "      <td>21.400000</td>\n",
       "      <td>4.900000</td>\n",
       "      <td>10493.000</td>\n",
       "      <td>29.800000</td>\n",
       "      <td>5.400000</td>\n",
       "      <td>8333.000</td>\n",
       "      <td>4.300000</td>\n",
       "    </tr>\n",
       "    <tr>\n",
       "      <th>2</th>\n",
       "      <td>VOLKSWAGEN</td>\n",
       "      <td>2013.0</td>\n",
       "      <td>11743.000</td>\n",
       "      <td>23.415659</td>\n",
       "      <td>197007.000</td>\n",
       "      <td>2.247815</td>\n",
       "      <td>5.960702</td>\n",
       "      <td>11385.000</td>\n",
       "      <td>8.500000</td>\n",
       "      <td>5.778982</td>\n",
       "      <td>11500.000</td>\n",
       "      <td>5.837356</td>\n",
       "    </tr>\n",
       "    <tr>\n",
       "      <th>3</th>\n",
       "      <td>VOLKSWAGEN</td>\n",
       "      <td>2014.0</td>\n",
       "      <td>13120.000</td>\n",
       "      <td>11.726135</td>\n",
       "      <td>202458.000</td>\n",
       "      <td>2.766907</td>\n",
       "      <td>6.480356</td>\n",
       "      <td>12012.000</td>\n",
       "      <td>5.556522</td>\n",
       "      <td>5.933082</td>\n",
       "      <td>12139.000</td>\n",
       "      <td>5.995811</td>\n",
       "    </tr>\n",
       "    <tr>\n",
       "      <th>4</th>\n",
       "      <td>VOLKSWAGEN</td>\n",
       "      <td>2015.0</td>\n",
       "      <td>13612.000</td>\n",
       "      <td>3.750000</td>\n",
       "      <td>213292.000</td>\n",
       "      <td>5.351233</td>\n",
       "      <td>6.381861</td>\n",
       "      <td>13213.000</td>\n",
       "      <td>10.000000</td>\n",
       "      <td>6.194794</td>\n",
       "      <td>-1228.000</td>\n",
       "      <td>-0.575737</td>\n",
       "    </tr>\n",
       "    <tr>\n",
       "      <th>...</th>\n",
       "      <td>...</td>\n",
       "      <td>...</td>\n",
       "      <td>...</td>\n",
       "      <td>...</td>\n",
       "      <td>...</td>\n",
       "      <td>...</td>\n",
       "      <td>...</td>\n",
       "      <td>...</td>\n",
       "      <td>...</td>\n",
       "      <td>...</td>\n",
       "      <td>...</td>\n",
       "      <td>...</td>\n",
       "    </tr>\n",
       "    <tr>\n",
       "      <th>331</th>\n",
       "      <td>GESTAMP</td>\n",
       "      <td>2018.0</td>\n",
       "      <td>85.790</td>\n",
       "      <td>17.932504</td>\n",
       "      <td>8547.638</td>\n",
       "      <td>4.219521</td>\n",
       "      <td>1.003669</td>\n",
       "      <td>793.976</td>\n",
       "      <td>0.829903</td>\n",
       "      <td>9.288835</td>\n",
       "      <td>524.290</td>\n",
       "      <td>6.133741</td>\n",
       "    </tr>\n",
       "    <tr>\n",
       "      <th>332</th>\n",
       "      <td>GESTAMP</td>\n",
       "      <td>2019.0</td>\n",
       "      <td>74.280</td>\n",
       "      <td>-13.416482</td>\n",
       "      <td>9065.146</td>\n",
       "      <td>6.054398</td>\n",
       "      <td>0.819402</td>\n",
       "      <td>718.473</td>\n",
       "      <td>-9.509481</td>\n",
       "      <td>7.925664</td>\n",
       "      <td>505.646</td>\n",
       "      <td>5.577913</td>\n",
       "    </tr>\n",
       "    <tr>\n",
       "      <th>333</th>\n",
       "      <td>GESTAMP</td>\n",
       "      <td>2020.0</td>\n",
       "      <td>58.849</td>\n",
       "      <td>-20.774100</td>\n",
       "      <td>7455.840</td>\n",
       "      <td>-17.752700</td>\n",
       "      <td>0.789300</td>\n",
       "      <td>483.133</td>\n",
       "      <td>-32.755600</td>\n",
       "      <td>6.479900</td>\n",
       "      <td>58.257</td>\n",
       "      <td>0.781400</td>\n",
       "    </tr>\n",
       "    <tr>\n",
       "      <th>334</th>\n",
       "      <td>GESTAMP</td>\n",
       "      <td>2021.0</td>\n",
       "      <td>71.309</td>\n",
       "      <td>21.172832</td>\n",
       "      <td>8092.845</td>\n",
       "      <td>8.543705</td>\n",
       "      <td>0.881136</td>\n",
       "      <td>516.020</td>\n",
       "      <td>6.807028</td>\n",
       "      <td>6.376250</td>\n",
       "      <td>414.147</td>\n",
       "      <td>5.117446</td>\n",
       "    </tr>\n",
       "    <tr>\n",
       "      <th>335</th>\n",
       "      <td>GESTAMP</td>\n",
       "      <td>2022.0</td>\n",
       "      <td>72.990</td>\n",
       "      <td>2.400000</td>\n",
       "      <td>10726.440</td>\n",
       "      <td>32.500000</td>\n",
       "      <td>0.700000</td>\n",
       "      <td>677.840</td>\n",
       "      <td>31.400000</td>\n",
       "      <td>6.300000</td>\n",
       "      <td>535.410</td>\n",
       "      <td>5.000000</td>\n",
       "    </tr>\n",
       "  </tbody>\n",
       "</table>\n",
       "<p>336 rows × 12 columns</p>\n",
       "</div>"
      ],
      "text/plain": [
       "        Company    Year  R&D  (€million)  R&D one-year growth (%)  \\\n",
       "0    VOLKSWAGEN  2011.0         7203.000                15.100671   \n",
       "1    VOLKSWAGEN  2012.0         9515.000                32.100000   \n",
       "2    VOLKSWAGEN  2013.0        11743.000                23.415659   \n",
       "3    VOLKSWAGEN  2014.0        13120.000                11.726135   \n",
       "4    VOLKSWAGEN  2015.0        13612.000                 3.750000   \n",
       "..          ...     ...              ...                      ...   \n",
       "331    GESTAMP   2018.0           85.790                17.932504   \n",
       "332    GESTAMP   2019.0           74.280               -13.416482   \n",
       "333    GESTAMP   2020.0           58.849               -20.774100   \n",
       "334    GESTAMP   2021.0           71.309                21.172832   \n",
       "335    GESTAMP   2022.0           72.990                 2.400000   \n",
       "\n",
       "     Net sales (€million)  Net sales one-year growth (%)  R&D intensity (%)  \\\n",
       "0              159337.000                      25.585813           4.520607   \n",
       "1              193000.000                      21.400000           4.900000   \n",
       "2              197007.000                       2.247815           5.960702   \n",
       "3              202458.000                       2.766907           6.480356   \n",
       "4              213292.000                       5.351233           6.381861   \n",
       "..                    ...                            ...                ...   \n",
       "331              8547.638                       4.219521           1.003669   \n",
       "332              9065.146                       6.054398           0.819402   \n",
       "333              7455.840                     -17.752700           0.789300   \n",
       "334              8092.845                       8.543705           0.881136   \n",
       "335             10726.440                      32.500000           0.700000   \n",
       "\n",
       "     Capex (€million)  Capex one-year growth (%)  Capex intensity (%)  \\\n",
       "0            8087.000                 -36.660000             5.075406   \n",
       "1           10493.000                  29.800000             5.400000   \n",
       "2           11385.000                   8.500000             5.778982   \n",
       "3           12012.000                   5.556522             5.933082   \n",
       "4           13213.000                  10.000000             6.194794   \n",
       "..                ...                        ...                  ...   \n",
       "331           793.976                   0.829903             9.288835   \n",
       "332           718.473                  -9.509481             7.925664   \n",
       "333           483.133                 -32.755600             6.479900   \n",
       "334           516.020                   6.807028             6.376250   \n",
       "335           677.840                  31.400000             6.300000   \n",
       "\n",
       "     Op.profits (€million)  Profitability (%)  \n",
       "0                10930.000           6.859675  \n",
       "1                 8333.000           4.300000  \n",
       "2                11500.000           5.837356  \n",
       "3                12139.000           5.995811  \n",
       "4                -1228.000          -0.575737  \n",
       "..                     ...                ...  \n",
       "331                524.290           6.133741  \n",
       "332                505.646           5.577913  \n",
       "333                 58.257           0.781400  \n",
       "334                414.147           5.117446  \n",
       "335                535.410           5.000000  \n",
       "\n",
       "[336 rows x 12 columns]"
      ]
     },
     "execution_count": 19,
     "metadata": {},
     "output_type": "execute_result"
    }
   ],
   "source": [
    "df_cleaned"
   ]
  },
  {
   "cell_type": "markdown",
   "metadata": {},
   "source": [
    "## The Jarque-Bera test is a goodness-of-fit test of whether sample data have the skewness and kurtosis matching a normal distribution"
   ]
  },
  {
   "cell_type": "code",
   "execution_count": 20,
   "metadata": {},
   "outputs": [],
   "source": [
    "from scipy.stats import jarque_bera\n",
    "\n",
    "# Function to apply Jarque-Bera test\n",
    "def jarque_bera_test(df):\n",
    "    results = {}\n",
    "    for column in df.columns:\n",
    "        jb_stat, p_value = jarque_bera(df[column])\n",
    "        results[column] = {'Jarque-Bera Statistic': jb_stat, 'p-value': p_value}\n",
    "    return pd.DataFrame(results)"
   ]
  },
  {
   "cell_type": "code",
   "execution_count": 34,
   "metadata": {},
   "outputs": [],
   "source": [
    "features = df_cleaned[['Op.profits (€million)', 'Net sales (€million)', 'R&D  (€million)', 'Capex (€million)']]"
   ]
  },
  {
   "cell_type": "code",
   "execution_count": 35,
   "metadata": {},
   "outputs": [],
   "source": [
    "features = features.dropna()"
   ]
  },
  {
   "cell_type": "code",
   "execution_count": 36,
   "metadata": {},
   "outputs": [],
   "source": [
    "jb_results = jarque_bera_test(features)\n"
   ]
  },
  {
   "cell_type": "code",
   "execution_count": 37,
   "metadata": {},
   "outputs": [
    {
     "name": "stdout",
     "output_type": "stream",
     "text": [
      "                       Op.profits (€million)  Net sales (€million)  \\\n",
      "Jarque-Bera Statistic             570.928044            156.701516   \n",
      "p-value                             0.000000              0.000000   \n",
      "\n",
      "                       R&D  (€million)  Capex (€million)  \n",
      "Jarque-Bera Statistic       404.417963       1296.986103  \n",
      "p-value                       0.000000          0.000000  \n"
     ]
    }
   ],
   "source": [
    "# Display the results\n",
    "print(jb_results)"
   ]
  },
  {
   "cell_type": "markdown",
   "metadata": {},
   "source": [
    "p-value < 0 -> **data does NOT follow a normal distribution**"
   ]
  },
  {
   "cell_type": "markdown",
   "metadata": {},
   "source": [
    "## The Breusch-Pagan test checks for heteroskedasticity in a regression model, which is the condition where the variance of the residuals is not constant.\n",
    "\n",
    "Heteroskedasticity refers to the condition in a regression model where the variance of the residuals (the differences between the observed and predicted values) is not constant across all levels of the independent variable(s). This violates one of the key assumptions of ordinary least squares (OLS) regression, which assumes homoskedasticity, meaning that the residuals have constant variance.\n",
    "\n"
   ]
  },
  {
   "cell_type": "code",
   "execution_count": 41,
   "metadata": {},
   "outputs": [],
   "source": [
    "import statsmodels.api as sm\n",
    "import statsmodels.formula.api as smf\n",
    "from statsmodels.stats.diagnostic import het_breuschpagan"
   ]
  },
  {
   "cell_type": "code",
   "execution_count": 48,
   "metadata": {},
   "outputs": [],
   "source": [
    "features = df_cleaned[['Op.profits (€million)', 'R&D  (€million)', 'Capex (€million)']]"
   ]
  },
  {
   "cell_type": "code",
   "execution_count": 42,
   "metadata": {},
   "outputs": [],
   "source": [
    "# Define the independent variables (explanatory variables) and the dependent variable (response variable)\n",
    "X = df_cleaned[['R&D  (€million)', 'Capex (€million)', ]]\n",
    "y = df_cleaned['Op.profits (€million)']"
   ]
  },
  {
   "cell_type": "code",
   "execution_count": 43,
   "metadata": {},
   "outputs": [],
   "source": [
    "# Add a constant to the independent variables matrix\n",
    "X = sm.add_constant(X)"
   ]
  },
  {
   "cell_type": "code",
   "execution_count": 44,
   "metadata": {},
   "outputs": [],
   "source": [
    "# Fit the regression model\n",
    "model = sm.OLS(y, X).fit()"
   ]
  },
  {
   "cell_type": "code",
   "execution_count": 45,
   "metadata": {},
   "outputs": [],
   "source": [
    "# Perform the Breusch-Pagan test\n",
    "bp_test = het_breuschpagan(model.resid, model.model.exog)\n",
    "\n",
    "# The test returns a tuple with the following elements:\n",
    "# Lagrange multiplier statistic, p-value, f-value, f p-value\n",
    "bp_test_results = {\n",
    "    \"Lagrange multiplier statistic\": bp_test[0],\n",
    "    \"p-value\": bp_test[1],\n",
    "    \"f-value\": bp_test[2],\n",
    "    \"f p-value\": bp_test[3]\n",
    "}"
   ]
  },
  {
   "cell_type": "code",
   "execution_count": 46,
   "metadata": {},
   "outputs": [
    {
     "data": {
      "text/plain": [
       "{'Lagrange multiplier statistic': 14.124091423175825,\n",
       " 'p-value': 0.0008570230774169547,\n",
       " 'f-value': 7.306111328296234,\n",
       " 'f p-value': 0.0007845867174464759}"
      ]
     },
     "execution_count": 46,
     "metadata": {},
     "output_type": "execute_result"
    }
   ],
   "source": [
    "# Display results\n",
    "bp_test_results"
   ]
  },
  {
   "cell_type": "markdown",
   "metadata": {},
   "source": [
    "Interpretation of Breusch-Pagan Test Results\n",
    "Lagrange Multiplier Statistic: 14.124\n",
    "\n",
    "This is the test statistic for the Breusch-Pagan test. It is derived from the regression of the squared residuals on the original independent variables.\n",
    "Higher values of this statistic suggest a greater likelihood of heteroskedasticity being present.\n",
    "p-value: 0.000857\n",
    "\n",
    "This is the p-value associated with the Lagrange Multiplier statistic.\n",
    "A low p-value (typically less than 0.05) indicates that we can reject the null hypothesis of homoskedasticity. In this case, the p-value is significantly lower than 0.05, suggesting strong evidence against the null hypothesis. Therefore, we conclude that heteroskedasticity is present in the model.\n",
    "f-value: 7.306\n",
    "\n",
    "This is the F-statistic for the auxiliary regression used in the Breusch-Pagan test.\n",
    "It assesses the overall significance of the regression model used to predict the squared residuals. Higher values suggest that the model is better at explaining the variation in squared residuals.\n",
    "f p-value: 0.000785\n",
    "\n",
    "This is the p-value associated with the F-statistic.\n",
    "Similar to the p-value for the Lagrange Multiplier statistic, a low f p-value indicates that the explanatory variables significantly explain the variance of the residuals. Since this value is also much lower than 0.05, it reinforces the conclusion that heteroskedasticity is present.\n",
    "Summary\n",
    "\n",
    "The results indicate that there is **strong evidence of heteroskedasticity** in your regression model. Specifically:\n",
    "\n",
    "Both the Lagrange Multiplier statistic and the F-statistic are significantly high.\n",
    "The corresponding p-values are well below the 0.05 threshold, indicating that the null hypothesis of homoskedasticity (constant variance of residuals) can be rejected."
   ]
  },
  {
   "cell_type": "markdown",
   "metadata": {},
   "source": [
    "## KPSS - The Kwiatkowski-Phillips-Schmidt-Shin (KPSS) test is used to check for stationarity in a time series."
   ]
  },
  {
   "cell_type": "code",
   "execution_count": 52,
   "metadata": {},
   "outputs": [],
   "source": [
    "from statsmodels.tsa.stattools import kpss"
   ]
  },
  {
   "cell_type": "code",
   "execution_count": 54,
   "metadata": {},
   "outputs": [],
   "source": [
    "# Function to apply KPSS test\n",
    "def kpss_test(series, **kw):\n",
    "    statistic, p_value, n_lags, critical_values = kpss(series, **kw)\n",
    "    return {\n",
    "        'KPSS Statistic': statistic,\n",
    "        'p-value': p_value,\n",
    "        'Lags Used': n_lags,\n",
    "        'Critical Values': critical_values\n",
    "    }"
   ]
  },
  {
   "cell_type": "code",
   "execution_count": 55,
   "metadata": {},
   "outputs": [],
   "source": [
    "features = df_cleaned[['Op.profits (€million)', 'R&D  (€million)', 'Capex (€million)']]"
   ]
  },
  {
   "cell_type": "code",
   "execution_count": 56,
   "metadata": {},
   "outputs": [],
   "source": [
    "# Applying KPSS test to each column\n",
    "results = {}\n",
    "for column in features.columns:\n",
    "    try:\n",
    "        results[column] = kpss_test(features[column], regression='c')\n",
    "    except Exception as e:\n",
    "        results[column] = str(e)"
   ]
  },
  {
   "cell_type": "code",
   "execution_count": 57,
   "metadata": {},
   "outputs": [
    {
     "data": {
      "text/plain": [
       "{'Op.profits (€million)': {'KPSS Statistic': 1.4539460095395746,\n",
       "  'p-value': 0.01,\n",
       "  'Lags Used': 10,\n",
       "  'Critical Values': {'10%': 0.347, '5%': 0.463, '2.5%': 0.574, '1%': 0.739}},\n",
       " 'R&D  (€million)': {'KPSS Statistic': 2.0696372207472162,\n",
       "  'p-value': 0.01,\n",
       "  'Lags Used': 11,\n",
       "  'Critical Values': {'10%': 0.347, '5%': 0.463, '2.5%': 0.574, '1%': 0.739}},\n",
       " 'Capex (€million)': {'KPSS Statistic': 1.3564246346154993,\n",
       "  'p-value': 0.01,\n",
       "  'Lags Used': 11,\n",
       "  'Critical Values': {'10%': 0.347, '5%': 0.463, '2.5%': 0.574, '1%': 0.739}}}"
      ]
     },
     "execution_count": 57,
     "metadata": {},
     "output_type": "execute_result"
    }
   ],
   "source": [
    "results"
   ]
  },
  {
   "cell_type": "markdown",
   "metadata": {},
   "source": [
    "For all three series (Op.profits, R&D, and Capex), the KPSS test results indicate that they are **NOT stationary**. The high KPSS statistics and low p-values (all at 0.01) lead us to reject the null hypothesis of stationarity for each series. This suggests that these time series have trends or other non-stationary characteristics."
   ]
  },
  {
   "cell_type": "markdown",
   "metadata": {},
   "source": [
    "## Autocorrelation - is often used to find patterns or regularities in time series data.\n",
    "\n",
    "The autocorrelation values provide insight into the degree of correlation between a time series and a lagged version of itself. "
   ]
  },
  {
   "cell_type": "code",
   "execution_count": 58,
   "metadata": {},
   "outputs": [],
   "source": [
    "import matplotlib.pyplot as plt\n",
    "\n",
    "\n",
    "def plot_autocorrelation(df):\n",
    "    for column in df.columns:\n",
    "        fig, ax = plt.subplots()\n",
    "        pd.plotting.autocorrelation_plot(df[column], ax=ax)\n",
    "        ax.set_title(f'Autocorrelation for {column}')\n",
    "        plt.show()"
   ]
  },
  {
   "cell_type": "code",
   "execution_count": 59,
   "metadata": {},
   "outputs": [],
   "source": [
    "features = df_cleaned[['Op.profits (€million)', 'R&D  (€million)', 'Capex (€million)']]"
   ]
  },
  {
   "cell_type": "code",
   "execution_count": 60,
   "metadata": {},
   "outputs": [
    {
     "data": {
      "image/png": "[encoded data removed]",
      "text/plain": [
       "<Figure size 640x480 with 1 Axes>"
      ]
     },
     "metadata": {},
     "output_type": "display_data"
    },
    {
     "data": {
      "image/png": "[encoded data removed]",
      "text/plain": [
       "<Figure size 640x480 with 1 Axes>"
      ]
     },
     "metadata": {},
     "output_type": "display_data"
    },
    {
     "data": {
      "image/png": "[encoded data removed]",
      "text/plain": [
       "<Figure size 640x480 with 1 Axes>"
      ]
     },
     "metadata": {},
     "output_type": "display_data"
    }
   ],
   "source": [
    "plot_autocorrelation(features)\n"
   ]
  },
  {
   "cell_type": "code",
   "execution_count": 61,
   "metadata": {},
   "outputs": [],
   "source": [
    "# Calculating autocorrelation for specific lags\n",
    "def calculate_autocorrelation(df, lag=1):\n",
    "    autocorr_values = {}\n",
    "    for column in df.columns:\n",
    "        autocorr = df[column].autocorr(lag=lag)\n",
    "        autocorr_values[column] = autocorr\n",
    "    return autocorr_values"
   ]
  },
  {
   "cell_type": "code",
   "execution_count": 63,
   "metadata": {},
   "outputs": [
    {
     "name": "stdout",
     "output_type": "stream",
     "text": [
      "{'Op.profits (€million)': 0.7501432091367409, 'R&D  (€million)': 0.9467263609156868, 'Capex (€million)': 0.941138995186151}\n"
     ]
    }
   ],
   "source": [
    "autocorr_values = calculate_autocorrelation(features, lag=1)\n",
    "print(autocorr_values)"
   ]
  },
  {
   "cell_type": "markdown",
   "metadata": {},
   "source": [
    "1. Op.profits (€million): 0.750\n",
    "\n",
    "An autocorrelation value of 0.750 suggests a strong positive correlation between the operating profits of the current year and the previous year. This indicates that the operating profits are relatively consistent and tend to follow a predictable pattern over time. In practical terms, if the operating profit is high in one year, it is likely to be high in the next year as well.\n",
    "\n",
    "2. R&D (€million): 0.947\n",
    "\n",
    "An autocorrelation value of 0.947 indicates a very strong positive correlation between the R&D spending of the current year and the previous year. This suggests that the company's R&D expenditures are highly consistent from year to year, showing a stable and predictable investment in research and development activities. If R&D spending increases in one year, it is very likely to increase in the following year as well.\n",
    "\n",
    "3. Capex (€million): 0.941\n",
    "\n",
    "An autocorrelation value of 0.941 also indicates a very strong positive correlation between the capital expenditures (Capex) of the current year and the previous year. This implies that the company's investment in capital assets tends to be very consistent over time. Similar to R&D, if Capex increases in one year, it is highly likely to increase in the next year as well."
   ]
  },
  {
   "cell_type": "markdown",
   "metadata": {},
   "source": [
    "The high autocorrelation values for \"R&D (€million)\" and \"Capex (€million)\" suggest that these expenditures are very stable and follow a predictable trend over time. The \"Op.profits (€million)\" also shows a strong positive correlation, indicating consistent operating profits year over year. These patterns can be useful for forecasting future values, as the past values provide a reliable indication of future trends."
   ]
  },
  {
   "cell_type": "markdown",
   "metadata": {},
   "source": [
    "## Multicollinearity"
   ]
  },
  {
   "cell_type": "markdown",
   "metadata": {},
   "source": [
    "1. When predictors are highly correlated, it becomes challenging to determine the individual effect of each predictor on the dependent variable. \n",
    "2. Multicollinearity can cause instability in the estimation of regression coefficients. Small changes in the data can lead to large variations in the coefficients, making the model unreliable.\n",
    "3. High multicollinearity inflates the standard errors of the regression coefficients, leading to wider confidence intervals and less precise estimates.\n"
   ]
  },
  {
   "cell_type": "markdown",
   "metadata": {},
   "source": [
    "Consider a business context where you are analyzing the factors affecting a company's operational profits. If you have predictors like R&D expenditure, net sales, and capital expenditure, multicollinearity among these variables can obscure the true impact of each on operational profits. By addressing multicollinearity, you can gain clearer insights into which factors most significantly drive profitability, allowing for more informed strategic decisions."
   ]
  },
  {
   "cell_type": "code",
   "execution_count": 65,
   "metadata": {},
   "outputs": [],
   "source": [
    "import statsmodels.api as sm\n",
    "from statsmodels.stats.outliers_influence import variance_inflation_factor\n",
    "import seaborn as sns\n",
    "import matplotlib.pyplot as plt"
   ]
  },
  {
   "cell_type": "code",
   "execution_count": 86,
   "metadata": {},
   "outputs": [],
   "source": [
    "features = df_cleaned[['R&D one-year growth (%)', 'Capex one-year growth (%)', 'Profitability (%)', 'Net sales (€million)', 'Net sales one-year growth (%)', 'Op.profits (€million)', 'R&D  (€million)', 'Capex (€million)']]"
   ]
  },
  {
   "cell_type": "code",
   "execution_count": 91,
   "metadata": {},
   "outputs": [],
   "source": [
    "features_pair = df_cleaned[['Op.profits (€million)', 'R&D  (€million)', 'Capex (€million)']]"
   ]
  },
  {
   "cell_type": "code",
   "execution_count": 92,
   "metadata": {},
   "outputs": [],
   "source": [
    "features = features_pair "
   ]
  },
  {
   "cell_type": "code",
   "execution_count": 93,
   "metadata": {},
   "outputs": [
    {
     "data": {
      "image/png": "[encoded data removed]",
      "text/plain": [
       "<Figure size 1000x800 with 2 Axes>"
      ]
     },
     "metadata": {},
     "output_type": "display_data"
    }
   ],
   "source": [
    "# Step 1: Calculate the Correlation Matrix\n",
    "correlation_matrix = features.corr()\n",
    "plt.figure(figsize=(10, 8))\n",
    "sns.heatmap(correlation_matrix, annot=True, cmap='coolwarm')\n",
    "plt.title('Correlation Matrix')\n",
    "plt.show()"
   ]
  },
  {
   "cell_type": "code",
   "execution_count": 94,
   "metadata": {},
   "outputs": [],
   "source": [
    "# Step 2: Calculate the Variance Inflation Factor (VIF)\n",
    "X = features.select_dtypes(include=[np.number])  # Select only numeric columns\n",
    "X = sm.add_constant(X)  # Add a constant term for the intercept\n",
    "\n",
    "vif_data = pd.DataFrame()\n",
    "vif_data[\"feature\"] = X.columns\n",
    "vif_data[\"VIF\"] = [variance_inflation_factor(X.values, i) for i in range(X.shape[1])]"
   ]
  },
  {
   "cell_type": "code",
   "execution_count": 95,
   "metadata": {},
   "outputs": [
    {
     "name": "stdout",
     "output_type": "stream",
     "text": [
      "                 feature       VIF\n",
      "1  Op.profits (€million)  2.482570\n",
      "2        R&D  (€million)  2.431136\n",
      "3       Capex (€million)  2.664138\n"
     ]
    }
   ],
   "source": [
    "# Step 3: Display the VIF Data\n",
    "vif_data = vif_data[vif_data[\"feature\"] != \"const\"]  # Remove the constant term\n",
    "print(vif_data)"
   ]
  },
  {
   "cell_type": "markdown",
   "metadata": {},
   "source": [
    "Correlation between variables indicates a linear relationship between them. If R&D and Capex are correlated with profits, it suggests that changes in R&D and Capex are associated with changes in profits. However, correlation alone does not necessarily mean that these variables are good estimators of profit"
   ]
  },
  {
   "cell_type": "code",
   "execution_count": 97,
   "metadata": {},
   "outputs": [
    {
     "name": "stdout",
     "output_type": "stream",
     "text": [
      "                       Op.profits (€million)  R&D  (€million)  \\\n",
      "Op.profits (€million)               1.000000         0.701238   \n",
      "R&D  (€million)                     0.701238         1.000000   \n",
      "Capex (€million)                    0.732248         0.725517   \n",
      "\n",
      "                       Capex (€million)  \n",
      "Op.profits (€million)          0.732248  \n",
      "R&D  (€million)                0.725517  \n",
      "Capex (€million)               1.000000  \n"
     ]
    }
   ],
   "source": [
    "# Calculate correlation coefficients\n",
    "correlation_with_profits = features[['Op.profits (€million)', 'R&D  (€million)', 'Capex (€million)']].corr()\n",
    "print(correlation_with_profits)"
   ]
  },
  {
   "cell_type": "markdown",
   "metadata": {},
   "source": [
    "Strong Positive Correlations with Profits:\n",
    "\n",
    "Both R&D (€million) and Capex (€million) have strong positive correlations with Op.profits (€million). This suggests that increases in R&D and Capex are associated with increases in operational profits. Therefore, R&D and Capex are likely good estimators of profits, as their increases align with profit increases.\n",
    "Relationship between R&D and Capex:\n",
    "\n",
    "The strong positive correlation between R&D (€million) and Capex (€million) suggests that these two expenditures are related. Companies investing heavily in R&D also tend to invest significantly in Capex. This could imply that both types of investments are part of a broader strategy to enhance operational efficiency and profitability."
   ]
  },
  {
   "cell_type": "markdown",
   "metadata": {},
   "source": [
    "Business Strategy:\n",
    "For decision-makers, these correlations indicate that investments in R&D and Capex are beneficial for increasing operational profits. Firms should consider maintaining or increasing their spending in these areas to boost profitability.\n",
    "Regression Analysis:\n",
    "Since both R&D and Capex are strongly correlated with profits and each other, including them in a regression model as predictors of profits is appropriate. However, care should be taken due to their inter-correlation, which might still introduce some multicollinearity. "
   ]
  },
  {
   "cell_type": "markdown",
   "metadata": {},
   "source": [
    "The strong positive correlations between Op.profits (€million), R&D (€million), and Capex (€million) suggest that R&D and Capex are good predictors of operational profits. These investments are closely related and contribute significantly to profitability. By leveraging these insights, businesses can make informed decisions about allocating resources to R&D and Capex to maximize their operational profits."
   ]
  },
  {
   "cell_type": "code",
   "execution_count": 98,
   "metadata": {},
   "outputs": [
    {
     "name": "stdout",
     "output_type": "stream",
     "text": [
      "                              OLS Regression Results                             \n",
      "=================================================================================\n",
      "Dep. Variable:     Op.profits (€million)   R-squared:                       0.597\n",
      "Model:                               OLS   Adj. R-squared:                  0.595\n",
      "Method:                    Least Squares   F-statistic:                     246.8\n",
      "Date:                   Tue, 06 Aug 2024   Prob (F-statistic):           1.77e-66\n",
      "Time:                           15:56:53   Log-Likelihood:                -3167.5\n",
      "No. Observations:                    336   AIC:                             6341.\n",
      "Df Residuals:                        333   BIC:                             6352.\n",
      "Df Model:                              2                                         \n",
      "Covariance Type:               nonrobust                                         \n",
      "====================================================================================\n",
      "                       coef    std err          t      P>|t|      [0.025      0.975]\n",
      "------------------------------------------------------------------------------------\n",
      "const              314.6276    217.916      1.444      0.150    -114.038     743.293\n",
      "R&D  (€million)      0.5360      0.075      7.102      0.000       0.388       0.684\n",
      "Capex (€million)     0.3891      0.042      9.337      0.000       0.307       0.471\n",
      "==============================================================================\n",
      "Omnibus:                      275.605   Durbin-Watson:                   1.089\n",
      "Prob(Omnibus):                  0.000   Jarque-Bera (JB):            10601.614\n",
      "Skew:                          -3.012   Prob(JB):                         0.00\n",
      "Kurtosis:                      29.851   Cond. No.                     1.04e+04\n",
      "==============================================================================\n",
      "\n",
      "Notes:\n",
      "[1] Standard Errors assume that the covariance matrix of the errors is correctly specified.\n",
      "[2] The condition number is large, 1.04e+04. This might indicate that there are\n",
      "strong multicollinearity or other numerical problems.\n"
     ]
    }
   ],
   "source": [
    "import statsmodels.api as sm\n",
    "\n",
    "# Define the independent variables (R&D and Capex)\n",
    "X = features[['R&D  (€million)', 'Capex (€million)']]\n",
    "X = sm.add_constant(X)  # Add a constant term for the intercept\n",
    "\n",
    "# Define the dependent variable (Profits)\n",
    "y = features['Op.profits (€million)']\n",
    "\n",
    "# Fit the regression model\n",
    "model = sm.OLS(y, X).fit()\n",
    "\n",
    "# Display the regression results\n",
    "print(model.summary())"
   ]
  },
  {
   "cell_type": "markdown",
   "metadata": {},
   "source": [
    "The regression results provide insights into the relationship between Op.profits (€million) (dependent variable) and the predictors R&D (€million) and Capex (€million) (independent variables). Here’s a detailed interpretation of the results:\n",
    "\n",
    "Key Metrics:\n",
    "R-squared: 0.597\n",
    "\n",
    "This indicates that approximately 59.7% of the variance in operational profits is explained by the model, which includes R&D and Capex as predictors. While this is a moderate level of explanatory power, it suggests that there are other factors not included in the model that also influence profits.\n",
    "Adj. R-squared: 0.595\n",
    "\n",
    "The adjusted R-squared, which accounts for the number of predictors in the model, is slightly lower than the R-squared. This indicates that the model’s explanatory power is relatively robust and not inflated by the inclusion of irrelevant variables.\n",
    "F-statistic: 246.8 (Prob: 1.77e-66)\n",
    "\n",
    "The F-statistic tests the overall significance of the model. A very low p-value (much less than 0.05) indicates that the model is statistically significant, meaning that R&D and Capex, as a set, significantly predict operational profits.\n",
    "Coefficients and Significance:\n",
    "Intercept (const): 314.6276 (p = 0.150)\n",
    "\n",
    "The intercept represents the expected value of operational profits when both R&D and Capex are zero. Its p-value (0.150) is above the typical significance level (0.05), indicating that the intercept is not statistically significant.\n",
    "R&D (€million): 0.5360 (p < 0.0001)\n",
    "\n",
    "The coefficient for R&D is 0.5360, which means that for every additional million euros spent on R&D, operational profits are expected to increase by approximately €0.536 million, holding Capex constant. The very low p-value indicates that this effect is statistically significant.\n",
    "Capex (€million): 0.3891 (p < 0.0001)\n",
    "\n",
    "The coefficient for Capex is 0.3891, suggesting that for every additional million euros spent on Capex, operational profits are expected to increase by approximately €0.389 million, holding R&D constant. This effect is also statistically significant.\n",
    "Diagnostic Measures:\n",
    "Omnibus: 275.605, Prob(Omnibus): 0.000\n",
    "\n",
    "The Omnibus test checks for the normality of the residuals. A significant p-value (0.000) indicates that the residuals are not normally distributed.\n",
    "Jarque-Bera (JB): 10601.614, Prob(JB): 0.000\n",
    "\n",
    "The Jarque-Bera test also assesses the normality of the residuals. The highly significant p-value indicates deviations from normality.\n",
    "Durbin-Watson: 1.089\n",
    "\n",
    "The Durbin-Watson statistic tests for the presence of autocorrelation in the residuals. A value close to 2 indicates no autocorrelation. A value of 1.089 suggests some positive autocorrelation.\n",
    "Condition Number: 1.04e+04\n",
    "\n",
    "The condition number assesses multicollinearity. A high condition number (much larger than 30) indicates potential multicollinearity issues. The condition number here is quite large, suggesting that multicollinearity might be a concern.\n",
    "Summary:\n",
    "Model Fit: The model explains a moderate proportion of the variance in operational profits (R-squared = 0.597).\n",
    "Predictor Significance: Both R&D and Capex are significant predictors of operational profits, with positive coefficients.\n",
    "Residual Diagnostics: The residuals show evidence of non-normality and potential autocorrelation, which might impact the reliability of the regression coefficients.\n",
    "Multicollinearity: The high condition number suggests potential multicollinearity, which should be further investigated and addressed if necessary."
   ]
  },
  {
   "cell_type": "markdown",
   "metadata": {},
   "source": [
    "## Using AI"
   ]
  },
  {
   "cell_type": "markdown",
   "metadata": {},
   "source": [
    "How AI Algorithms Can Improve Predictions\n",
    "\n",
    "Non-linear Relationships: AI algorithms, such as neural networks, decision trees, and ensemble methods, can capture non-linear relationships between variables that linear regression models cannot.\n",
    "Interactions Between Variables: AI models can automatically detect and model interactions between variables without needing explicit specification.\n",
    "Feature Engineering: AI models can benefit from automated feature engineering techniques, including polynomial features, interaction terms, and more."
   ]
  },
  {
   "cell_type": "markdown",
   "metadata": {},
   "source": [
    "Common AI Algorithms for Regression\n",
    "\n",
    "Random Forests: An ensemble method that builds multiple decision trees and averages their predictions to improve accuracy and control overfitting.\n",
    "Gradient Boosting Machines (GBMs): An ensemble technique that builds models sequentially, each correcting the errors of the previous one.\n",
    "Neural Networks: Can model complex relationships by learning from data through multiple layers of interconnected nodes.\n",
    "Support Vector Machines (SVMs): Effective for high-dimensional spaces and can capture non-linear relationships using kernel functions."
   ]
  },
  {
   "cell_type": "markdown",
   "metadata": {},
   "source": [
    "## Conclusions\n",
    "\n",
    "The results above demostrates that simple regression cannot model well the relation between the profits of a company and the investments in R&D and Capex, this is why in our work we used more advanced AI algorithms to create a precise predictor and find the optimal point which can be used for profit maximization. "
   ]
  },
  {
   "cell_type": "code",
   "execution_count": null,
   "metadata": {},
   "outputs": [],
   "source": []
  }
 ],
 "metadata": {
  "kernelspec": {
   "display_name": "myenv",
   "language": "python",
   "name": "python3"
  },
  "language_info": {
   "codemirror_mode": {
    "name": "ipython",
    "version": 3
   },
   "file_extension": ".py",
   "mimetype": "text/x-python",
   "name": "python",
   "nbconvert_exporter": "python",
   "pygments_lexer": "ipython3",
   "version": "3.7.0"
  }
 },
 "nbformat": 4,
 "nbformat_minor": 2
}
